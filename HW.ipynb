{
 "cells": [
  {
   "cell_type": "code",
   "execution_count": null,
   "metadata": {},
   "outputs": [],
   "source": [
    "def get_shop_list_by_dishes(dishes, person_count):\n",
    "    shop_list = {}\n",
    "    for dish in dishes:\n",
    "        for ingridient in cook_book[dish]:\n",
    "            new_shop_list_item = dict(ingridient)\n",
    "\n",
    "            new_shop_list_item['quantity'] *= person_count\n",
    "            if new_shop_list_item['ingridient_name'] not in shop_list:\n",
    "                shop_list[new_shop_list_item['ingridient_name']] = new_shop_list_item\n",
    "            else:\n",
    "                shop_list[new_shop_list_item['ingridient_name']]['quantity'] += new_shop_list_item['quantity']\n",
    "    return shop_list\n",
    "\n",
    "def print_shop_list(shop_list):\n",
    "    for shop_list_item in shop_list.values():\n",
    "        print('{} {} {}'.format(shop_list_item['ingridient_name'], shop_list_item['quantity'],\n",
    "                                shop_list_item['measure']))\n",
    "\n",
    "def create_shop_list():\n",
    "    person_count = int(input('Введите количество человек: '))\n",
    "    dishes = input('Введите блюда в расчете на одного человека (через запятую): ').lower().split(', ')\n",
    "    shop_list = get_shop_list_by_dishes(dishes, person_count)\n",
    "    print_shop_list(shop_list)\n",
    "\n",
    "create_shop_list()"
   ]
  },
  {
   "cell_type": "code",
   "execution_count": null,
   "metadata": {
    "collapsed": true
   },
   "outputs": [],
   "source": [
    "def dict_to_string(file, dish, receipt):\n",
    "    file.write('{}\\n'.format(dish))\n",
    "    file.write('{}\\n'.format(len(receipt)))\n",
    "    [file.write('{} | {} | {}\\n'.format(el['ingridient_name'], el['quantity'], el['measure'])) for el in receipt]"
   ]
  },
  {
   "cell_type": "code",
   "execution_count": null,
   "metadata": {
    "collapsed": true
   },
   "outputs": [],
   "source": [
    "def write_to_file(file_name, c_book):\n",
    "    with open(file_name, 'w', encoding='utf-8') as f:\n",
    "        for key, value in c_book.items():\n",
    "            dict_to_string(f, key, value)"
   ]
  },
  {
   "cell_type": "code",
   "execution_count": null,
   "metadata": {
    "collapsed": true
   },
   "outputs": [],
   "source": [
    "def read_for_file(file_name):\n",
    "    cook_book_from_file = {}\n",
    "    ingridients_params = ['ingridient_name', 'quantity', 'measure']\n",
    "    with open(file_name, 'r', encoding='utf-8') as f:\n",
    "        for line in f:\n",
    "            dish_name = line.replace('\\n', '')\n",
    "            cook_book_from_file[dish_name] = []\n",
    "            num_ingridient = f.readline()\n",
    "            for _ in range(0, int(num_ingridient)):\n",
    "                params = f.readline().replace('\\n', '').replace(' ', '').split('|')\n",
    "                cook_book_from_file[dish_name].append(dict(list(zip(ingridients_params, params))))\n",
    "    return cook_book_from_file"
   ]
  },
  {
   "cell_type": "code",
   "execution_count": null,
   "metadata": {},
   "outputs": [],
   "source": [
    "cook_book = {\n",
    "      'яйчница': [\n",
    "        {'ingridient_name': 'яйца', 'quantity': 2, 'measure': 'шт.'},\n",
    "        {'ingridient_name': 'помидоры', 'quantity': 100, 'measure': 'гр.'}\n",
    "        ],\n",
    "      'стейк': [\n",
    "        {'ingridient_name': 'говядина', 'quantity': 300, 'measure': 'гр.'},\n",
    "        {'ingridient_name': 'специи', 'quantity': 5, 'measure': 'гр.'},\n",
    "        {'ingridient_name': 'масло', 'quantity': 10, 'measure': 'мл.'}\n",
    "        ],\n",
    "      'салат': [\n",
    "        {'ingridient_name': 'помидоры', 'quantity': 100, 'measure': 'гр.'},\n",
    "        {'ingridient_name': 'огурцы', 'quantity': 100, 'measure': 'гр.'},\n",
    "        {'ingridient_name': 'масло', 'quantity': 100, 'measure': 'мл.'},\n",
    "        {'ingridient_name': 'лук', 'quantity': 1, 'measure': 'шт.'}\n",
    "        ]\n",
    "      }\n",
    "f_name = 'receipts.txt'\n",
    "write_to_file(f_name, cook_book)\n",
    "read_for_file(f_name)"
   ]
  }
 ],
 "metadata": {
  "kernelspec": {
   "display_name": "Python 3",
   "language": "python",
   "name": "python3"
  },
  "language_info": {
   "codemirror_mode": {
    "name": "ipython",
    "version": 3
   },
   "file_extension": ".py",
   "mimetype": "text/x-python",
   "name": "python",
   "nbconvert_exporter": "python",
   "pygments_lexer": "ipython3",
   "version": "3.6.1"
  }
 },
 "nbformat": 4,
 "nbformat_minor": 2
}
