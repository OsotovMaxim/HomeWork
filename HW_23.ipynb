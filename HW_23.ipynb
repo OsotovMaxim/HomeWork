{
 "cells": [
  {
   "cell_type": "code",
   "execution_count": 3,
   "metadata": {},
   "outputs": [],
   "source": [
    "import json\n",
    "import chardet"
   ]
  },
  {
   "cell_type": "code",
   "execution_count": 16,
   "metadata": {
    "collapsed": true
   },
   "outputs": [],
   "source": [
    "def read_file(name):\n",
    "    news_dict = {}\n",
    "    with open(name, 'rb') as f:\n",
    "        data = f.read()\n",
    "        result = chardet.detect(data)\n",
    "        encoding = result['encoding']\n",
    "        s = data.decode(encoding)\n",
    "        news_dict = json.loads(s)\n",
    "                \n",
    "    return [news['description'] for news in news_dict['rss']['channel']['items']]"
   ]
  },
  {
   "cell_type": "code",
   "execution_count": 27,
   "metadata": {
    "collapsed": true
   },
   "outputs": [],
   "source": [
    "def find_top_ten(data):\n",
    "    s = ' '.join(data)\n",
    "    word_list = [word for word in s.split(' ') if len(word) > 6]\n",
    "    count_dict = dict()\n",
    "    for word in word_list:\n",
    "        count_dict[word] = count_dict.get(word, 0) + 1\n",
    "    return [el[0] for el in sorted(count_dict.items(), key=lambda item: item[1], reverse=True)[:10]]"
   ]
  },
  {
   "cell_type": "code",
   "execution_count": 28,
   "metadata": {},
   "outputs": [
    {
     "name": "stdout",
     "output_type": "stream",
     "text": [
      "['туристов', 'компании', 'Wilderness', 'странах', 'туризма', 'которые', 'африканских', 'туристы', 'является', 'природы']\n",
      "['туристов', 'Seasons', 'россиян', 'Интерфакс', 'которые', 'человек', 'сообщает', 'турпотока', 'сравнению', 'компании']\n",
      "['туристов', 'Seasons', 'россиян', 'Интерфакс', 'которые', 'человек', 'сообщает', 'турпотока', 'сравнению', 'компании']\n",
      "['землетрясения', 'человек', 'Интерфакс', 'которые', 'октября', 'несколько', 'центральной', 'который', 'туристов', 'провинции']\n"
     ]
    }
   ],
   "source": [
    "file_name_list = ['newsafr.json', 'newscy.json', 'newsfr.json', 'newsit.json']\n",
    "for file_name in file_name_list:    \n",
    "    desc = read_file(file_name)\n",
    "    print(find_top_ten(desc))"
   ]
  }
 ],
 "metadata": {
  "kernelspec": {
   "display_name": "Python 3",
   "language": "python",
   "name": "python3"
  },
  "language_info": {
   "codemirror_mode": {
    "name": "ipython",
    "version": 3
   },
   "file_extension": ".py",
   "mimetype": "text/x-python",
   "name": "python",
   "nbconvert_exporter": "python",
   "pygments_lexer": "ipython3",
   "version": "3.6.1"
  }
 },
 "nbformat": 4,
 "nbformat_minor": 2
}
